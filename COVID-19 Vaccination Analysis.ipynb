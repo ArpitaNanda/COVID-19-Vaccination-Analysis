{
 "cells": [
  {
   "cell_type": "markdown",
   "id": "40a8caa7",
   "metadata": {},
   "source": [
    "# COVID-19 Vaccination Analysis\n",
    "### Writing df = df.fillna(0)"
   ]
  },
  {
   "cell_type": "code",
   "execution_count": 2,
   "id": "4711deab",
   "metadata": {},
   "outputs": [],
   "source": [
    "import pandas as pd\n",
    "\n",
    "df = pd.read_csv('country_vaccinations.csv')\n",
    "df = df.fillna(0)"
   ]
  },
  {
   "cell_type": "markdown",
   "id": "60e06b95",
   "metadata": {},
   "source": [
    "# Q1. Total number of people vaccinated in Argentina (Atlease Once)"
   ]
  },
  {
   "cell_type": "code",
   "execution_count": 10,
   "id": "2e534e3e",
   "metadata": {},
   "outputs": [
    {
     "data": {
      "text/plain": [
       "7261176.0"
      ]
     },
     "execution_count": 10,
     "metadata": {},
     "output_type": "execute_result"
    }
   ],
   "source": [
    "df[df['country'] == 'Argentina']['people_vaccinated'].max()"
   ]
  },
  {
   "cell_type": "markdown",
   "id": "16fb71e3",
   "metadata": {},
   "source": [
    "# Q2. Total number of countries in this dataset"
   ]
  },
  {
   "cell_type": "code",
   "execution_count": 4,
   "id": "daa2f6ae",
   "metadata": {},
   "outputs": [
    {
     "data": {
      "text/plain": [
       "195"
      ]
     },
     "execution_count": 4,
     "metadata": {},
     "output_type": "execute_result"
    }
   ],
   "source": [
    "len(df['country'].unique())"
   ]
  },
  {
   "cell_type": "markdown",
   "id": "f081e1ef",
   "metadata": {},
   "source": [
    "# Q3. Maximum number of people vaccinated in a country"
   ]
  },
  {
   "cell_type": "code",
   "execution_count": 8,
   "id": "b210e6bc",
   "metadata": {},
   "outputs": [
    {
     "data": {
      "text/plain": [
       "country\n",
       "United States    148562891.0\n",
       "Name: people_vaccinated, dtype: float64"
      ]
     },
     "execution_count": 8,
     "metadata": {},
     "output_type": "execute_result"
    }
   ],
   "source": [
    "df.groupby(\"country\").max()['people_vaccinated'].sort_values(ascending = False).head(1) "
   ]
  },
  {
   "cell_type": "markdown",
   "id": "1d0af47b",
   "metadata": {},
   "source": [
    "# Q4. Top 5 Countries in terms of number of people vaccinated"
   ]
  },
  {
   "cell_type": "code",
   "execution_count": 20,
   "id": "ea41f97a",
   "metadata": {},
   "outputs": [
    {
     "data": {
      "text/plain": [
       "country\n",
       "United States     148562891.0\n",
       "India             129730641.0\n",
       "United Kingdom     34795074.0\n",
       "Brazil             30921100.0\n",
       "England            29124310.0\n",
       "Name: people_vaccinated, dtype: float64"
      ]
     },
     "execution_count": 20,
     "metadata": {},
     "output_type": "execute_result"
    }
   ],
   "source": [
    "df.groupby(\"country\").max()['people_vaccinated'].sort_values(ascending = False).head()"
   ]
  },
  {
   "cell_type": "code",
   "execution_count": null,
   "id": "d276a9e0",
   "metadata": {},
   "outputs": [],
   "source": []
  }
 ],
 "metadata": {
  "kernelspec": {
   "display_name": "Python 3",
   "language": "python",
   "name": "python3"
  },
  "language_info": {
   "codemirror_mode": {
    "name": "ipython",
    "version": 3
   },
   "file_extension": ".py",
   "mimetype": "text/x-python",
   "name": "python",
   "nbconvert_exporter": "python",
   "pygments_lexer": "ipython3",
   "version": "3.8.8"
  }
 },
 "nbformat": 4,
 "nbformat_minor": 5
}
